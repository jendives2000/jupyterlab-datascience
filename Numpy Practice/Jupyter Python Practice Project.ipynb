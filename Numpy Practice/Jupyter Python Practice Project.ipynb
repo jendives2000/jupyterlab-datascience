{
 "cells": [
  {
   "cell_type": "markdown",
   "id": "092326f4-2732-4cd4-a762-129b456cd4ec",
   "metadata": {},
   "source": [
    "# Practicing Jupyter and Python"
   ]
  },
  {
   "cell_type": "markdown",
   "id": "d5280154-d552-4838-90d5-0d086fa97f73",
   "metadata": {},
   "source": [
    "This notebook is a list of hands-on practice in Python and in the IDE that is Jupyterlab.  \n",
    "As part of a Data Science online course, these practice exercises are developing my programming skills in various aspects of a computer language:  \n",
    "- data structures (list, tuple, set, dictionary)\n",
    "- algorithms\n",
    "- control flow (conditionals)\n",
    "- library's methods (used in Data Science)  "
   ]
  },
  {
   "cell_type": "markdown",
   "id": "1adeaa3b-20c0-41b2-b270-69fbfd7d8696",
   "metadata": {},
   "source": [
    "## How to Read this Notebook"
   ]
  },
  {
   "cell_type": "markdown",
   "id": "7ef8fe43-b010-4467-bc1e-aa3a02b53a00",
   "metadata": {},
   "source": [
    "I will be introducing each exercise with its title: \"Exercise n:\".  \n",
    "If another paragraph follows, it would mean my exercise needed to be corrected, and the correct code will follow as well.  \n",
    "Otherwise it would mean that the exercise that I completed was satisfactory.  "
   ]
  },
  {
   "cell_type": "markdown",
   "id": "f13db897-6890-438f-b5d7-db5da66cb6a7",
   "metadata": {},
   "source": [
    "### Exercice 1: Get a float input / Round it / Check if it is odd or even"
   ]
  },
  {
   "cell_type": "code",
   "execution_count": 13,
   "id": "623602bc-6a0c-48c9-8a44-2bdd3b5e99fb",
   "metadata": {},
   "outputs": [
    {
     "name": "stdin",
     "output_type": "stream",
     "text": [
      "Enter a float number: -->  \n"
     ]
    },
    {
     "ename": "ValueError",
     "evalue": "could not convert string to float: ''",
     "output_type": "error",
     "traceback": [
      "\u001b[1;31m---------------------------------------------------------------------------\u001b[0m",
      "\u001b[1;31mValueError\u001b[0m                                Traceback (most recent call last)",
      "Cell \u001b[1;32mIn[13], line 2\u001b[0m\n\u001b[0;32m      1\u001b[0m \u001b[38;5;66;03m# Get the user input in a variable:\u001b[39;00m\n\u001b[1;32m----> 2\u001b[0m user_input \u001b[38;5;241m=\u001b[39m \u001b[38;5;28mfloat\u001b[39m(\u001b[38;5;28minput\u001b[39m(\u001b[38;5;124m\"\u001b[39m\u001b[38;5;124mEnter a float number: --> \u001b[39m\u001b[38;5;124m\"\u001b[39m))\n\u001b[0;32m      3\u001b[0m \u001b[38;5;28mprint\u001b[39m(\u001b[38;5;124mf\u001b[39m\u001b[38;5;124m\"\u001b[39m\u001b[38;5;124mYou entered:\u001b[39m\u001b[38;5;130;01m\\n\u001b[39;00m\u001b[38;5;130;01m\\t\u001b[39;00m\u001b[38;5;130;01m\\t\u001b[39;00m\u001b[38;5;124m \u001b[39m\u001b[38;5;132;01m{\u001b[39;00muser_input\u001b[38;5;132;01m}\u001b[39;00m\u001b[38;5;130;01m\\n\u001b[39;00m\u001b[38;5;124m\"\u001b[39m)\n\u001b[0;32m      5\u001b[0m \u001b[38;5;66;03m# Round the input number:\u001b[39;00m\n",
      "\u001b[1;31mValueError\u001b[0m: could not convert string to float: ''"
     ]
    }
   ],
   "source": [
    "# Get the user input in a variable:\n",
    "user_input = float(input(\"Enter a float number: --> \"))\n",
    "print(f\"You entered:\\n\\t\\t {user_input}\\n\")\n",
    "\n",
    "# Round the input number:\n",
    "rounded_num = round(user_input)\n",
    "print(f\"Here\\'s your number rounded down: {rounded_num}\\n\")\n",
    "\n",
    "# Use the modulo operator % and 2 (divides by 2 and output the remainder, which must be 0 to be even) and hold the remainder in a var:\n",
    "modulo_even = rounded_num % 2\n",
    "\n",
    "# function to check the remainder value:\n",
    "def isEven(modulo_even):\n",
    "    \"\"\" function to check the remainder value & tell if it is odd or even\n",
    "    \"\"\"\n",
    "    if modulo_even != 0: \n",
    "        print(f\"Your number {rounded_num} is not an even number\\n\")\n",
    "    else:\n",
    "        print(f\"Your number {rounded_num} is an even number\\n\")\n",
    "\n",
    "# Runs the function:\n",
    "isEven(modulo_even)\n"
   ]
  },
  {
   "cell_type": "markdown",
   "id": "6c76bb69-0367-4564-a611-c2f09e944d1e",
   "metadata": {},
   "source": [
    "### Exercice 2: Sort a list of numbers in ascending order / Make a new list out of them "
   ]
  },
  {
   "cell_type": "code",
   "execution_count": 34,
   "id": "cd9d4e60-802c-498b-9a5a-155f5b07abfd",
   "metadata": {},
   "outputs": [
    {
     "name": "stdout",
     "output_type": "stream",
     "text": [
      "\n",
      "This is the sorted list: \n",
      "\t[-5, 1, 2, 2, 3, 4, 7, 9].\n",
      "\n",
      "This is the new list: \n",
      "\t[-5, 1, 2, 2, 3, 4, 7, 9].\n"
     ]
    }
   ],
   "source": [
    "\n",
    "unsorted_list = [1, 2, 4, -5, 7, 9, 3, 2]\n",
    "\n",
    "# sorting the list:\n",
    "unsorted_list.sort()\n",
    "\n",
    "# declare the empty new list:\n",
    "new_list = []\n",
    "\n",
    "# For loop to populate the empty list with the numbers of the first list:\n",
    "for number in unsorted_list:\n",
    "    new_list.append(number)\n",
    "\n",
    "print(f\"\\nThis is the sorted list: \\n\\t{unsorted_list}.\")\n",
    "print(f\"\\nThis is the new list: \\n\\t{new_list}.\")\n"
   ]
  },
  {
   "cell_type": "markdown",
   "id": "7d52b578-87db-46c3-8f08-93329a7c7822",
   "metadata": {},
   "source": [
    "### Exercice 2-B: Do the same without the sort() method"
   ]
  },
  {
   "cell_type": "code",
   "execution_count": 36,
   "id": "b31d596a-8a1b-43cc-b3a1-e3225159369a",
   "metadata": {},
   "outputs": [
    {
     "ename": "TypeError",
     "evalue": "int() argument must be a string, a bytes-like object or a real number, not 'list'",
     "output_type": "error",
     "traceback": [
      "\u001b[1;31m---------------------------------------------------------------------------\u001b[0m",
      "\u001b[1;31mTypeError\u001b[0m                                 Traceback (most recent call last)",
      "Cell \u001b[1;32mIn[36], line 7\u001b[0m\n\u001b[0;32m      5\u001b[0m \u001b[38;5;28;01mfor\u001b[39;00m number \u001b[38;5;129;01min\u001b[39;00m unsorted_list:\n\u001b[0;32m      6\u001b[0m     number \u001b[38;5;241m=\u001b[39m unsorted_list\u001b[38;5;241m.\u001b[39mpop(\u001b[38;5;241m0\u001b[39m)\n\u001b[1;32m----> 7\u001b[0m     \u001b[38;5;28;01mif\u001b[39;00m number \u001b[38;5;241m<\u001b[39m \u001b[38;5;28mint\u001b[39m(unsorted_list[\u001b[38;5;241m0\u001b[39m:\u001b[38;5;241m-\u001b[39m\u001b[38;5;241m1\u001b[39m]):\n\u001b[0;32m      8\u001b[0m         new_list\u001b[38;5;241m.\u001b[39mappend(number)\n\u001b[0;32m      9\u001b[0m \u001b[38;5;28mprint\u001b[39m(new_list)\n",
      "\u001b[1;31mTypeError\u001b[0m: int() argument must be a string, a bytes-like object or a real number, not 'list'"
     ]
    }
   ],
   "source": [
    "unsorted_list = [1, 2, 4, -5, 7, 9, 3, 2]\n",
    "\n",
    "new_list = []\n",
    "# check if each number is smaller than all others\n",
    "for number in unsorted_list:\n",
    "    len = len(unsorted_list)\n",
    "    number = unsorted_list.pop(0)\n",
    "    reduce_by_1 = 0++\n",
    "    \n",
    "    if number < unsorted_list[len-len] & number < unsorted_list[len-len+1]\n",
    "        new_list.append(number)\n",
    "print(new_list)\n",
    "        \n",
    "        "
   ]
  },
  {
   "cell_type": "code",
   "execution_count": null,
   "id": "9876ac84-3c19-499a-81ff-e33ab872e3e1",
   "metadata": {},
   "outputs": [],
   "source": []
  }
 ],
 "metadata": {
  "kernelspec": {
   "display_name": "Python 3 (ipykernel)",
   "language": "python",
   "name": "python3"
  },
  "language_info": {
   "codemirror_mode": {
    "name": "ipython",
    "version": 3
   },
   "file_extension": ".py",
   "mimetype": "text/x-python",
   "name": "python",
   "nbconvert_exporter": "python",
   "pygments_lexer": "ipython3",
   "version": "3.11.5"
  }
 },
 "nbformat": 4,
 "nbformat_minor": 5
}
