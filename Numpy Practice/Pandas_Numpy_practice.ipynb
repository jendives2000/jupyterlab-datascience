{
 "cells": [
  {
   "cell_type": "markdown",
   "id": "36e17d68-5ad7-4aa5-8032-5337409cad8a",
   "metadata": {},
   "source": [
    "This notebook is about introducing the Pandas library and practicing on it. "
   ]
  },
  {
   "cell_type": "markdown",
   "id": "6919a8c7-d5ca-4868-a4f6-d57bc2dd6a50",
   "metadata": {},
   "source": [
    "# Performance:"
   ]
  },
  {
   "cell_type": "markdown",
   "id": "6b8d2351-a24a-4a38-9b2a-b2cd25bbee35",
   "metadata": {},
   "source": [
    "## Speed of Calculation: \n",
    "\n",
    "***\n",
    "***\n"
   ]
  },
  {
   "cell_type": "markdown",
   "id": "679316a5-c6cf-467b-b869-3c405f503658",
   "metadata": {},
   "source": [
    "Why do we use Numpy in Data Science?  \n",
    "Because it is fast. How fast?  \n",
    "\n",
    "Let's find out. I am going to test the speed of a sum operation over 1 Million entries by using the generic Python `sum()` method and the Numpy `np.sum()` method. Then the `%timeit` method will return data about how fast each calculation was. "
   ]
  },
  {
   "cell_type": "code",
   "execution_count": 2,
   "id": "2303b656-e40a-48bc-8aef-59adcdd4423f",
   "metadata": {},
   "outputs": [
    {
     "name": "stdout",
     "output_type": "stream",
     "text": [
      "93.7 ms ± 371 µs per loop (mean ± std. dev. of 7 runs, 10 loops each)\n",
      "975 µs ± 180 µs per loop (mean ± std. dev. of 7 runs, 1,000 loops each)\n"
     ]
    }
   ],
   "source": [
    "import numpy as np\n",
    "\n",
    "array_one_million = np.random.rand(1000000)  \n",
    "\n",
    "%timeit sum(array_one_million)  # using the default Python sum() method\n",
    "%timeit np.sum(array_one_million)  # using the Numpy sum method"
   ]
  },
  {
   "cell_type": "code",
   "execution_count": null,
   "id": "37858422-6fb6-4414-a73c-86cbb363d6a0",
   "metadata": {},
   "outputs": [],
   "source": []
  },
  {
   "cell_type": "markdown",
   "id": "b724fe50-80cd-4185-91ef-497490928aa8",
   "metadata": {},
   "source": [
    "## Pandas  \n",
    "\n",
    "***\n"
   ]
  },
  {
   "cell_type": "markdown",
   "id": "029de0eb-543d-4681-b0b2-98ab94a43593",
   "metadata": {},
   "source": [
    "Pandas is actually built on Numpy, so the performance of Numpy is brought to Pandas.  \n",
    "Pandas offers many more tools to work on data. We'll see many of them. "
   ]
  },
  {
   "cell_type": "code",
   "execution_count": 3,
   "id": "7255f99f-37ca-48cc-ba2c-6d419856897b",
   "metadata": {},
   "outputs": [
    {
     "name": "stdout",
     "output_type": "stream",
     "text": [
      "2.1.4\n"
     ]
    }
   ],
   "source": [
    "import pandas as pd  \n",
    "print(pd.__version__)"
   ]
  },
  {
   "cell_type": "markdown",
   "id": "4bd1f730-d6b4-4129-a277-3c7e84c7d7f4",
   "metadata": {},
   "source": [
    "I just imported the module of Pandas and I checked what version is available here for us.  \n",
    "\n",
    "Now let's use some of its basic methods: "
   ]
  },
  {
   "cell_type": "code",
   "execution_count": 9,
   "id": "b6619fcb-94c9-4160-9641-28d3a39f763e",
   "metadata": {},
   "outputs": [
    {
     "name": "stdout",
     "output_type": "stream",
     "text": [
      "[2 3 4 5]\n",
      "Index(['a', 'b', 'c', 'd'], dtype='object')\n"
     ]
    }
   ],
   "source": [
    "panda_array = pd.Series([2, 3, 4, 5], index=['a', 'b', 'c', 'd'])\n",
    "print(panda_array.values)\n",
    "print(panda_array.index)"
   ]
  },
  {
   "cell_type": "markdown",
   "id": "ec495b42-1426-4e59-8751-75cd24634e8f",
   "metadata": {},
   "source": [
    "We just created a simple 1 dimension array by using the method `pd.Series` and declaring an index list for it.  \n",
    "\n",
    ">NOTE:  \n",
    "The syntax is as usual very critical, however **pay attention to the \"S\" of `.Series`**. I made the mistake of writting it with a small one \"s\".  \n",
    "\n",
    "The `.values` method returns what it says, the values of the array. And the `.index` method returns a list of the indexes we declared. We call them **\"Explicit Indexes\"** as opposed to the default implicit ones (`[0, 1, 2, 3, ...]`).  \n",
    "The created Series here shows a structure that is similar to the pairing that dictionary are based upon: key and values. \n",
    "\n",
    "With a simple example like this one we can already check how Pandas work. Let's see the type of the array returned by `.values` and the type of the variable holding that array: `panda.array`:"
   ]
  },
  {
   "cell_type": "code",
   "execution_count": 7,
   "id": "9e68dad1-e335-4e28-b74f-67b8d5a1be7e",
   "metadata": {},
   "outputs": [
    {
     "name": "stdout",
     "output_type": "stream",
     "text": [
      "<class 'numpy.ndarray'>\n",
      "<class 'pandas.core.series.Series'>\n"
     ]
    }
   ],
   "source": [
    "print(type(panda_array.values))  \n",
    "print(type(panda_array))"
   ]
  },
  {
   "cell_type": "markdown",
   "id": "a594e835-08bc-44a7-a807-7aeb6cc460f2",
   "metadata": {},
   "source": [
    "We have an **ndarray**, straight from the numpy logic, and that is held in a **Pandas Series**. "
   ]
  },
  {
   "cell_type": "markdown",
   "id": "fe89cd26-4e69-4925-a0e0-63e288726125",
   "metadata": {},
   "source": [
    "#### Dictionary first, then Series:"
   ]
  },
  {
   "cell_type": "markdown",
   "id": "4cce33b5-5379-4ba7-b1d6-68c66af08f1a",
   "metadata": {},
   "source": [
    "We do not have to declare a Series like we did above here.  \n",
    "It is also possible to create a dictionary first and then pass it in the Series methodm just like so:"
   ]
  },
  {
   "cell_type": "code",
   "execution_count": 12,
   "id": "ad284f17-8fd1-4c0b-bd07-4562fb37e93d",
   "metadata": {},
   "outputs": [
    {
     "data": {
      "text/plain": [
       "A     4.0\n",
       "A-    3.5\n",
       "B     2.0\n",
       "B-    2.5\n",
       "dtype: float64"
      ]
     },
     "execution_count": 12,
     "metadata": {},
     "output_type": "execute_result"
    }
   ],
   "source": [
    "dict_example = {'A':4, \n",
    "               'A-':3.5,\n",
    "               'B':3,\n",
    "               'B-':2.5,\n",
    "               'B':2}\n",
    "panda_series_1 = pd.Series(dict_example)\n",
    "panda_series_1"
   ]
  },
  {
   "cell_type": "markdown",
   "id": "3d905952-ceb0-493d-85a9-c3d891bd5ad3",
   "metadata": {},
   "source": [
    "#### Slight Slice Difference:"
   ]
  },
  {
   "cell_type": "markdown",
   "id": "f841e930-6c0d-4416-b2c6-2389486da174",
   "metadata": {},
   "source": [
    "So we have lists that make a Series that has a similar structure to that of a dictionary. That means we can slice the indices.  \n",
    "Pandas is a little better here because the slicing does not exclude the upper limit that is declared. Here's an example:  "
   ]
  },
  {
   "cell_type": "code",
   "execution_count": 11,
   "id": "4c8d4db5-7156-440c-94c2-91957aba80c9",
   "metadata": {},
   "outputs": [
    {
     "data": {
      "text/plain": [
       "a    2\n",
       "b    3\n",
       "c    4\n",
       "dtype: int64"
      ]
     },
     "execution_count": 11,
     "metadata": {},
     "output_type": "execute_result"
    }
   ],
   "source": [
    "panda_array['a':'c']"
   ]
  },
  {
   "cell_type": "markdown",
   "id": "f7daba1a-3e4c-44ba-9502-226d47bf23f8",
   "metadata": {},
   "source": [
    "In numpy and python, slicing using `['a':'c']` would have excluded the 'c' index's value, returning only values of 'a' and 'b'.  \n",
    "Not in Pandas, the value of 'c' is also returned. \n",
    "\n",
    "> NOTE:  \n",
    "But this works ONLY with the declared index list. Pandas still creates a default index for each declared value: `[0, 1, 2, 3, ...]`. Using that default implicit index list for slicing calls the default behavior (and so excludes the last index value). "
   ]
  },
  {
   "cell_type": "markdown",
   "id": "32582bbf-6cde-4555-92be-eb365b3016c4",
   "metadata": {},
   "source": [
    "## .DataFrame():  \n",
    "\n",
    "***\n",
    "***\n"
   ]
  },
  {
   "cell_type": "markdown",
   "id": "1d7d6d84-6c33-47e5-bbec-8f6693493688",
   "metadata": {},
   "source": [
    "### Quantitative Visualization:"
   ]
  },
  {
   "cell_type": "markdown",
   "id": "4a997f9f-6aff-42d3-b623-27ee79fc7a2d",
   "metadata": {},
   "source": [
    "### For multiple dimensions arrays:  \n",
    "\n",
    "***\n"
   ]
  },
  {
   "cell_type": "markdown",
   "id": "9d39fcc1-9201-4352-807d-87355805958c",
   "metadata": {},
   "source": [
    "The method `pd.DataFrame()` introduces data visualization as a tool in Panda.  \n",
    "The returned output is a easier to look at visual table:"
   ]
  },
  {
   "cell_type": "code",
   "execution_count": 13,
   "id": "695e8ed9-e1e8-4a8b-a64e-56a502009d66",
   "metadata": {},
   "outputs": [
    {
     "data": {
      "text/html": [
       "<div>\n",
       "<style scoped>\n",
       "    .dataframe tbody tr th:only-of-type {\n",
       "        vertical-align: middle;\n",
       "    }\n",
       "\n",
       "    .dataframe tbody tr th {\n",
       "        vertical-align: top;\n",
       "    }\n",
       "\n",
       "    .dataframe thead th {\n",
       "        text-align: right;\n",
       "    }\n",
       "</style>\n",
       "<table border=\"1\" class=\"dataframe\">\n",
       "  <thead>\n",
       "    <tr style=\"text-align: right;\">\n",
       "      <th></th>\n",
       "      <th>Column 1</th>\n",
       "      <th>Column 2</th>\n",
       "    </tr>\n",
       "  </thead>\n",
       "  <tbody>\n",
       "    <tr>\n",
       "      <th>A</th>\n",
       "      <td>NaN</td>\n",
       "      <td>4.0</td>\n",
       "    </tr>\n",
       "    <tr>\n",
       "      <th>A-</th>\n",
       "      <td>NaN</td>\n",
       "      <td>3.5</td>\n",
       "    </tr>\n",
       "    <tr>\n",
       "      <th>B</th>\n",
       "      <td>NaN</td>\n",
       "      <td>2.0</td>\n",
       "    </tr>\n",
       "    <tr>\n",
       "      <th>B-</th>\n",
       "      <td>NaN</td>\n",
       "      <td>2.5</td>\n",
       "    </tr>\n",
       "    <tr>\n",
       "      <th>a</th>\n",
       "      <td>2.0</td>\n",
       "      <td>NaN</td>\n",
       "    </tr>\n",
       "    <tr>\n",
       "      <th>b</th>\n",
       "      <td>3.0</td>\n",
       "      <td>NaN</td>\n",
       "    </tr>\n",
       "    <tr>\n",
       "      <th>c</th>\n",
       "      <td>4.0</td>\n",
       "      <td>NaN</td>\n",
       "    </tr>\n",
       "    <tr>\n",
       "      <th>d</th>\n",
       "      <td>5.0</td>\n",
       "      <td>NaN</td>\n",
       "    </tr>\n",
       "  </tbody>\n",
       "</table>\n",
       "</div>"
      ],
      "text/plain": [
       "    Column 1  Column 2\n",
       "A        NaN       4.0\n",
       "A-       NaN       3.5\n",
       "B        NaN       2.0\n",
       "B-       NaN       2.5\n",
       "a        2.0       NaN\n",
       "b        3.0       NaN\n",
       "c        4.0       NaN\n",
       "d        5.0       NaN"
      ]
     },
     "execution_count": 13,
     "metadata": {},
     "output_type": "execute_result"
    }
   ],
   "source": [
    "dataframe_table = pd.DataFrame({'Column 1': panda_array, 'Column 2': panda_series_1})\n",
    "dataframe_table"
   ]
  },
  {
   "cell_type": "markdown",
   "id": "427eee7e-c4b8-4c98-bd02-c56cd540c0cb",
   "metadata": {},
   "source": [
    "#### Accessing the Data:"
   ]
  },
  {
   "cell_type": "code",
   "execution_count": 15,
   "id": "ff42b837-d3b4-414f-814f-23554514e86c",
   "metadata": {},
   "outputs": [
    {
     "data": {
      "text/plain": [
       "4.0"
      ]
     },
     "execution_count": 15,
     "metadata": {},
     "output_type": "execute_result"
    }
   ],
   "source": [
    "dataframe_table.values[0, 1]  # Accessing the 1st row [0] and second column [1]"
   ]
  },
  {
   "cell_type": "markdown",
   "id": "c3412995-6a67-406a-891e-62a0da428775",
   "metadata": {},
   "source": [
    "#### Adding a Column:"
   ]
  },
  {
   "cell_type": "code",
   "execution_count": 18,
   "id": "13db8041-c890-4ea4-8ef1-254800768c4b",
   "metadata": {},
   "outputs": [
    {
     "data": {
      "text/html": [
       "<div>\n",
       "<style scoped>\n",
       "    .dataframe tbody tr th:only-of-type {\n",
       "        vertical-align: middle;\n",
       "    }\n",
       "\n",
       "    .dataframe tbody tr th {\n",
       "        vertical-align: top;\n",
       "    }\n",
       "\n",
       "    .dataframe thead th {\n",
       "        text-align: right;\n",
       "    }\n",
       "</style>\n",
       "<table border=\"1\" class=\"dataframe\">\n",
       "  <thead>\n",
       "    <tr style=\"text-align: right;\">\n",
       "      <th></th>\n",
       "      <th>Column 1</th>\n",
       "      <th>Column 2</th>\n",
       "      <th>Column 3</th>\n",
       "    </tr>\n",
       "  </thead>\n",
       "  <tbody>\n",
       "    <tr>\n",
       "      <th>A</th>\n",
       "      <td>NaN</td>\n",
       "      <td>4.0</td>\n",
       "      <td>0.460539</td>\n",
       "    </tr>\n",
       "    <tr>\n",
       "      <th>A-</th>\n",
       "      <td>NaN</td>\n",
       "      <td>3.5</td>\n",
       "      <td>0.385398</td>\n",
       "    </tr>\n",
       "    <tr>\n",
       "      <th>B</th>\n",
       "      <td>NaN</td>\n",
       "      <td>2.0</td>\n",
       "      <td>0.759431</td>\n",
       "    </tr>\n",
       "    <tr>\n",
       "      <th>B-</th>\n",
       "      <td>NaN</td>\n",
       "      <td>2.5</td>\n",
       "      <td>0.435794</td>\n",
       "    </tr>\n",
       "    <tr>\n",
       "      <th>a</th>\n",
       "      <td>2.0</td>\n",
       "      <td>NaN</td>\n",
       "      <td>0.217021</td>\n",
       "    </tr>\n",
       "    <tr>\n",
       "      <th>b</th>\n",
       "      <td>3.0</td>\n",
       "      <td>NaN</td>\n",
       "      <td>0.984819</td>\n",
       "    </tr>\n",
       "    <tr>\n",
       "      <th>c</th>\n",
       "      <td>4.0</td>\n",
       "      <td>NaN</td>\n",
       "      <td>0.310816</td>\n",
       "    </tr>\n",
       "    <tr>\n",
       "      <th>d</th>\n",
       "      <td>5.0</td>\n",
       "      <td>NaN</td>\n",
       "      <td>0.625744</td>\n",
       "    </tr>\n",
       "  </tbody>\n",
       "</table>\n",
       "</div>"
      ],
      "text/plain": [
       "    Column 1  Column 2  Column 3\n",
       "A        NaN       4.0  0.460539\n",
       "A-       NaN       3.5  0.385398\n",
       "B        NaN       2.0  0.759431\n",
       "B-       NaN       2.5  0.435794\n",
       "a        2.0       NaN  0.217021\n",
       "b        3.0       NaN  0.984819\n",
       "c        4.0       NaN  0.310816\n",
       "d        5.0       NaN  0.625744"
      ]
     },
     "execution_count": 18,
     "metadata": {},
     "output_type": "execute_result"
    }
   ],
   "source": [
    "dataframe_table['Column 3'] = np.random.rand(8)  # same syntax of adding an entry pair ['key', 'value'] to a dictionary.\n",
    "dataframe_table"
   ]
  },
  {
   "cell_type": "markdown",
   "id": "7310c940-980b-44f8-8d84-b327fcd2fc1c",
   "metadata": {},
   "source": [
    "### NaN or Not A Number:  \n",
    "\n",
    "***\n"
   ]
  },
  {
   "cell_type": "markdown",
   "id": "6ea47df0-c76d-4797-a755-49924952689d",
   "metadata": {},
   "source": [
    "This `NaN` appears instead of a missing value. It could have been because there were no declared values for these or thatm like in my exemple, the joining of both arrays into a DataFrame created entries of rows/columns that did not exist before. "
   ]
  },
  {
   "cell_type": "markdown",
   "id": "8cd52f59-1308-4923-ba6c-3f4ed4af8784",
   "metadata": {},
   "source": [
    "#### Replacing NaN:"
   ]
  },
  {
   "cell_type": "markdown",
   "id": "0c18abb6-6c90-4596-a97c-29398ed928ec",
   "metadata": {},
   "source": [
    "There are 2 ways to deal with NaN (there are more but we'll see 2 simple ones).  \n",
    "\n",
    "To replace them with a value with the `.fillna()` method.  \n",
    "OR  \n",
    "To drop them with the every unexpectedly named method `.dropna()`"
   ]
  },
  {
   "cell_type": "code",
   "execution_count": 32,
   "id": "d43d7816-e9d5-46bb-90f1-6893b45721e7",
   "metadata": {
    "scrolled": true
   },
   "outputs": [
    {
     "data": {
      "text/html": [
       "<div>\n",
       "<style scoped>\n",
       "    .dataframe tbody tr th:only-of-type {\n",
       "        vertical-align: middle;\n",
       "    }\n",
       "\n",
       "    .dataframe tbody tr th {\n",
       "        vertical-align: top;\n",
       "    }\n",
       "\n",
       "    .dataframe thead th {\n",
       "        text-align: right;\n",
       "    }\n",
       "</style>\n",
       "<table border=\"1\" class=\"dataframe\">\n",
       "  <thead>\n",
       "    <tr style=\"text-align: right;\">\n",
       "      <th></th>\n",
       "      <th>Column 1</th>\n",
       "      <th>Column 2</th>\n",
       "      <th>Column 3</th>\n",
       "    </tr>\n",
       "  </thead>\n",
       "  <tbody>\n",
       "    <tr>\n",
       "      <th>A</th>\n",
       "      <td>0.0</td>\n",
       "      <td>4.0</td>\n",
       "      <td>0.460539</td>\n",
       "    </tr>\n",
       "    <tr>\n",
       "      <th>A-</th>\n",
       "      <td>0.0</td>\n",
       "      <td>3.5</td>\n",
       "      <td>0.385398</td>\n",
       "    </tr>\n",
       "    <tr>\n",
       "      <th>B</th>\n",
       "      <td>0.0</td>\n",
       "      <td>2.0</td>\n",
       "      <td>0.759431</td>\n",
       "    </tr>\n",
       "    <tr>\n",
       "      <th>B-</th>\n",
       "      <td>0.0</td>\n",
       "      <td>2.5</td>\n",
       "      <td>0.435794</td>\n",
       "    </tr>\n",
       "    <tr>\n",
       "      <th>a</th>\n",
       "      <td>2.0</td>\n",
       "      <td>0.0</td>\n",
       "      <td>0.217021</td>\n",
       "    </tr>\n",
       "    <tr>\n",
       "      <th>b</th>\n",
       "      <td>3.0</td>\n",
       "      <td>0.0</td>\n",
       "      <td>0.984819</td>\n",
       "    </tr>\n",
       "    <tr>\n",
       "      <th>c</th>\n",
       "      <td>4.0</td>\n",
       "      <td>0.0</td>\n",
       "      <td>0.310816</td>\n",
       "    </tr>\n",
       "    <tr>\n",
       "      <th>d</th>\n",
       "      <td>5.0</td>\n",
       "      <td>0.0</td>\n",
       "      <td>0.625744</td>\n",
       "    </tr>\n",
       "  </tbody>\n",
       "</table>\n",
       "</div>"
      ],
      "text/plain": [
       "    Column 1  Column 2  Column 3\n",
       "A        0.0       4.0  0.460539\n",
       "A-       0.0       3.5  0.385398\n",
       "B        0.0       2.0  0.759431\n",
       "B-       0.0       2.5  0.435794\n",
       "a        2.0       0.0  0.217021\n",
       "b        3.0       0.0  0.984819\n",
       "c        4.0       0.0  0.310816\n",
       "d        5.0       0.0  0.625744"
      ]
     },
     "execution_count": 32,
     "metadata": {},
     "output_type": "execute_result"
    }
   ],
   "source": [
    "dataframe_table.fillna(0, inplace=True)  # replacing all the NaN with 0\n",
    "dataframe_table"
   ]
  },
  {
   "cell_type": "markdown",
   "id": "3aa250c9-3ce7-4971-bc41-a744a2b06991",
   "metadata": {},
   "source": [
    "The `inplace` argument is set to True so that the original DataFrame is affected by the method.  \n",
    "So no new DataFrame is created. "
   ]
  },
  {
   "cell_type": "code",
   "execution_count": 36,
   "id": "c4e57e5d-3d8f-4045-9d33-f6e285d7b048",
   "metadata": {},
   "outputs": [
    {
     "name": "stdout",
     "output_type": "stream",
     "text": [
      "\n",
      "<bound method DataFrame.dropna of     Column 1  Column 2  Column 3\n",
      "A        0.0       4.0  0.460539\n",
      "A-       0.0       3.5  0.385398\n",
      "B        0.0       2.0  0.759431\n",
      "B-       0.0       2.5  0.435794\n",
      "a        2.0       0.0  0.217021\n",
      "b        3.0       0.0  0.984819\n",
      "c        4.0       0.0  0.310816\n",
      "d        5.0       0.0  0.625744>\n"
     ]
    }
   ],
   "source": [
    "dropped_nan = dataframe_table.dropna  # dropping the NaN values\n",
    "dropped_nan"
   ]
  },
  {
   "cell_type": "markdown",
   "id": "5929f637-5e0f-4374-a19a-1913cb0b0366",
   "metadata": {},
   "source": [
    "## Implicit Vs Explicit Indexes List:  \n",
    "\n",
    "***\n",
    "***\n"
   ]
  },
  {
   "cell_type": "markdown",
   "id": "4819744f-35b1-4503-86dd-5ecbb45eecba",
   "metadata": {},
   "source": [
    "### .iloc[] and .loc[]:  \n",
    "\n",
    "***\n"
   ]
  },
  {
   "cell_type": "markdown",
   "id": "11573f26-b778-4b86-bdb4-bca043da0e25",
   "metadata": {},
   "source": [
    "We saw earlier that when we declare a Series in Pandas, one way is to declare both the keys and the values. Here's what we wrote:  \n",
    "```\n",
    "panda_array = pd.Series([2, 3, 4, 5], index=['a', 'b', 'c', 'd'])\n",
    "print(panda_array.values)\n",
    "print(panda_array.index)\n",
    "```\n",
    "The first declared list is our keys list `[2, 3, 4, 5]` and the 2nd one is our values list OR rather our EXPLICIT index list `['a', 'b', 'c', 'd']`. \n",
    "\n",
    "In contrast, the **IMPLICIT** list of indexes is created by default by Pandas `[0, 1, 2, 3,]`. \n",
    "\n",
    "When using SLICING methods (and ONLY when using them) the default way that is used is the IMPLICIT one. However the EXPLICIT way is less confusing because it returns the whole declared range where the IMPLICIT list skips the last index's value of that same range.  \n",
    "This could lead to a lot of confusion and mistakes, especially when both are a numerical list. \n",
    "\n",
    "The `iloc[]` method refers to the implicit list.  \n",
    "The `.loc[]` method refers to the explicit list. \n",
    "\n",
    "Let's see an example:"
   ]
  },
  {
   "cell_type": "code",
   "execution_count": 39,
   "id": "3332bea9-7c5b-490b-aaab-7a03720eac10",
   "metadata": {},
   "outputs": [
    {
     "name": "stdout",
     "output_type": "stream",
     "text": [
      "1    1\n",
      "2    2\n",
      "3    3\n",
      "4    4\n",
      "dtype: int64\n",
      "\n",
      "This is a slicing refering to an IMPLICIT index list:\n",
      "2    2\n",
      "3    3\n",
      "dtype: int64\n",
      "\n",
      "This is a slicing refering to an EXPLICIT index list:\n",
      "1    1\n",
      "2    2\n",
      "3    3\n",
      "dtype: int64\n"
     ]
    }
   ],
   "source": [
    "explicit_array = pd.Series([1, 2, 3, 4], index=[1, 2, 3, 4])\n",
    "print(explicit_array)\n",
    "\n",
    "print(f\"\\nThis is a slicing refering to an IMPLICIT index list:\\n{explicit_array[1:3]}\")\n",
    "print(f\"\\nThis is a slicing refering to an EXPLICIT index list:\\n{explicit_array.loc[1:3]}\")"
   ]
  },
  {
   "cell_type": "markdown",
   "id": "25594ee8-4c54-432a-ab43-0401adf12d43",
   "metadata": {},
   "source": [
    ">You notice that I did not use the `iloc[]` method to showcase the implicit referencing, this is because it is default behavior.  \n",
    "It is clear that the explicit `loc[]` method is more interesting and less ambiguous to use. "
   ]
  },
  {
   "cell_type": "code",
   "execution_count": null,
   "id": "59927aad-4e3d-4407-8dc6-046c427ce617",
   "metadata": {},
   "outputs": [],
   "source": []
  },
  {
   "cell_type": "code",
   "execution_count": null,
   "id": "4a87bb00-8963-43f3-8ec3-f5e9bba70314",
   "metadata": {},
   "outputs": [],
   "source": []
  },
  {
   "cell_type": "code",
   "execution_count": null,
   "id": "ead85a97-e140-4b7d-b18f-1d8d3064d0fa",
   "metadata": {},
   "outputs": [],
   "source": []
  },
  {
   "cell_type": "code",
   "execution_count": null,
   "id": "f0541b85-990b-46e5-9077-3e2f44e04da5",
   "metadata": {},
   "outputs": [],
   "source": []
  },
  {
   "cell_type": "code",
   "execution_count": null,
   "id": "00cb9828-6fc1-4ea5-b695-644298fc85a6",
   "metadata": {},
   "outputs": [],
   "source": []
  },
  {
   "cell_type": "code",
   "execution_count": null,
   "id": "37f44241-9c13-4e34-b1f3-35e28510f517",
   "metadata": {},
   "outputs": [],
   "source": []
  },
  {
   "cell_type": "code",
   "execution_count": null,
   "id": "0277194e-8ef7-44f6-ac9c-c3b0de35e809",
   "metadata": {},
   "outputs": [],
   "source": []
  },
  {
   "cell_type": "code",
   "execution_count": null,
   "id": "6cc94507-f7e2-4648-a4fb-663b24121487",
   "metadata": {},
   "outputs": [],
   "source": []
  },
  {
   "cell_type": "code",
   "execution_count": null,
   "id": "db5bcb06-6730-4848-a13c-2f59a28deccf",
   "metadata": {},
   "outputs": [],
   "source": []
  },
  {
   "cell_type": "markdown",
   "id": "815d4971-612a-4558-89c1-e9f8928a810b",
   "metadata": {},
   "source": [
    ">Note that `.reshape()` HAS TO follow an `np.arange()` like it is in the example above.  \n",
    "Otherwise it would not work."
   ]
  },
  {
   "cell_type": "markdown",
   "id": "5cd4af8e-2b25-41e2-a6b7-c0b265b95033",
   "metadata": {},
   "source": [
    "The syntax for that is:  \n",
    "\n",
    "`array[::x]`  \n",
    "where x is the jump value. So if x = 2, it will go from 0 to the last value and jumps 2 numbers. "
   ]
  },
  {
   "cell_type": "code",
   "execution_count": 25,
   "id": "88e072dd-77bb-4ff5-85eb-a7d8c542b1d1",
   "metadata": {},
   "outputs": [
    {
     "data": {
      "text/plain": [
       "array([   0, -999,    6,    9,   12,   15,   18,   21,   24,   27,   30,\n",
       "         33,   36,   39,   42,   45,   48,   51,   54,   57,   60,   63,\n",
       "         66,   69,   72,   75,   78,   81,   84,   87,   90,   93,   96,\n",
       "         99])"
      ]
     },
     "execution_count": 25,
     "metadata": {},
     "output_type": "execute_result"
    }
   ],
   "source": [
    "array_tobe_sliced[::3]  # slicing from Start to End with a jump of 3"
   ]
  },
  {
   "cell_type": "markdown",
   "id": "9c055c56-ce51-4b07-95e9-edfeed4dc3c2",
   "metadata": {},
   "source": [
    "So we sliced from the start (0) to the end (99) and jumped 3 indexes every time."
   ]
  },
  {
   "cell_type": "markdown",
   "id": "c7adf37a-e28f-4cbb-95fb-9fb9b21d28f9",
   "metadata": {},
   "source": [
    "#### from End to start with jumps:"
   ]
  },
  {
   "cell_type": "markdown",
   "id": "ec1aa205-3862-4af4-8a4c-36adc2e557de",
   "metadata": {},
   "source": [
    "This is almost the same syntax as the previous one:  \n",
    "\n",
    "`array[::-x]`  \n",
    "The -x indicates to numpy that it should start at the end and go backward down to the beginning. "
   ]
  },
  {
   "cell_type": "code",
   "execution_count": 26,
   "id": "ce288aa6-96db-4465-bc1f-8bc78eacf5eb",
   "metadata": {},
   "outputs": [
    {
     "data": {
      "text/plain": [
       "array([  99,   96,   93,   90,   87,   84,   81,   78,   75,   72,   69,\n",
       "         66,   63,   60,   57,   54,   51,   48,   45,   42,   39,   36,\n",
       "         33,   30,   27,   24,   21,   18,   15,   12,    9,    6, -999,\n",
       "          0])"
      ]
     },
     "execution_count": 26,
     "metadata": {},
     "output_type": "execute_result"
    }
   ],
   "source": [
    "array_tobe_sliced[::-3]  # slicing from the end (99) down to 0 with jumps of 3"
   ]
  },
  {
   "cell_type": "markdown",
   "id": "d084e2fa-f006-4ec3-8715-94fc69906b76",
   "metadata": {},
   "source": [
    "So if instead of -3 we use -1 we will get every entry in a reverse order.  \n",
    "This is a way to reverse an array."
   ]
  },
  {
   "cell_type": "code",
   "execution_count": 27,
   "id": "f7473c3c-d9cf-47d0-8f1d-9687e825d9a0",
   "metadata": {},
   "outputs": [
    {
     "name": "stderr",
     "output_type": "stream",
     "text": [
      "C:\\Users\\Jean-Yves TRAN\\AppData\\Local\\Temp\\ipykernel_11564\\3622541549.py:4: RuntimeWarning: divide by zero encountered in scalar divide\n",
      "  is_it_1 = int(val_index_tofind) / array_tobe_sliced[each_entry]\n"
     ]
    },
    {
     "ename": "IndexError",
     "evalue": "index -999 is out of bounds for axis 0 with size 100",
     "output_type": "error",
     "traceback": [
      "\u001b[1;31m---------------------------------------------------------------------------\u001b[0m",
      "\u001b[1;31mIndexError\u001b[0m                                Traceback (most recent call last)",
      "Cell \u001b[1;32mIn[27], line 4\u001b[0m\n\u001b[0;32m      1\u001b[0m val_index_tofind \u001b[38;5;241m=\u001b[39m \u001b[38;5;241m-\u001b[39m\u001b[38;5;241m999\u001b[39m\n\u001b[0;32m      3\u001b[0m \u001b[38;5;28;01mfor\u001b[39;00m each_entry \u001b[38;5;129;01min\u001b[39;00m array_tobe_sliced:\n\u001b[1;32m----> 4\u001b[0m     is_it_1 \u001b[38;5;241m=\u001b[39m \u001b[38;5;28mint\u001b[39m(val_index_tofind) \u001b[38;5;241m/\u001b[39m array_tobe_sliced[each_entry]\n\u001b[0;32m      5\u001b[0m     \u001b[38;5;28;01mif\u001b[39;00m is_it_1 \u001b[38;5;241m==\u001b[39m \u001b[38;5;241m1\u001b[39m:\n\u001b[0;32m      6\u001b[0m         \u001b[38;5;28mprint\u001b[39m(\u001b[38;5;124mf\u001b[39m\u001b[38;5;124m\"\u001b[39m\u001b[38;5;124mthe index of the value -999 is \u001b[39m\u001b[38;5;132;01m{\u001b[39;00marray_tobe_sliced[each_entry]\u001b[38;5;132;01m}\u001b[39;00m\u001b[38;5;124m\"\u001b[39m)\n",
      "\u001b[1;31mIndexError\u001b[0m: index -999 is out of bounds for axis 0 with size 100"
     ]
    }
   ],
   "source": [
    "val_index_tofind = -999\n",
    "\n",
    "for each_entry in array_tobe_sliced:\n",
    "    is_it_1 = int(val_index_tofind) / array_tobe_sliced[each_entry]\n",
    "    if is_it_1 == 1:\n",
    "        print(f\"the index of the value -999 is {array_tobe_sliced[each_entry]}\")\n",
    "        break"
   ]
  },
  {
   "cell_type": "markdown",
   "id": "d30277b1-b9e1-40bd-ae0e-5c01d41463f1",
   "metadata": {},
   "source": [
    "## Extracting information from Matrice:\n",
    "\n",
    "***\n",
    "***\n"
   ]
  },
  {
   "cell_type": "markdown",
   "id": "568c7c5c-0034-4bc7-a201-40cbba982a34",
   "metadata": {},
   "source": [
    "### Accessing rows:  \n",
    "\n",
    "***\n"
   ]
  },
  {
   "cell_type": "markdown",
   "id": "934b2160-0199-473d-b631-2ca308e65714",
   "metadata": {},
   "source": [
    "To return a whole row from a matrice the syntax is:  \n",
    "\n",
    "`array[row_index,:]`\n",
    "Where `row_index` is the index of the row one wants to get returned. \n",
    "\n",
    ">REMEMBER that the **first index is always 0**, so the first row is indexed at value 0.  \n",
    "\n",
    "This will give this example:"
   ]
  },
  {
   "cell_type": "code",
   "execution_count": 28,
   "id": "9139246b-b153-4751-9303-50b4886f12c2",
   "metadata": {},
   "outputs": [
    {
     "data": {
      "text/plain": [
       "array([[ 4.,  4.,  1.,  3.],\n",
       "       [ 3.,  0.,  7., 10.],\n",
       "       [ 4.,  0.,  4.,  8.],\n",
       "       [ 5.,  1.,  4.,  7.],\n",
       "       [ 3.,  9.,  5.,  7.]])"
      ]
     },
     "execution_count": 28,
     "metadata": {},
     "output_type": "execute_result"
    }
   ],
   "source": [
    "array_a = np.round(10*np.random.rand(5, 4))  # the .round is rounding the values to an integer value (no float), and we get a 5 rows 4 col matric\n",
    "array_a"
   ]
  },
  {
   "cell_type": "code",
   "execution_count": 29,
   "id": "33e5b865-bb05-4e29-b9d5-932d5390f74c",
   "metadata": {},
   "outputs": [
    {
     "data": {
      "text/plain": [
       "array([4., 4., 1., 3.])"
      ]
     },
     "execution_count": 29,
     "metadata": {},
     "output_type": "execute_result"
    }
   ],
   "source": [
    "array_a[0,:]"
   ]
  },
  {
   "cell_type": "markdown",
   "id": "b4a9f5b4-f982-4bea-b775-538dc6bd8015",
   "metadata": {},
   "source": [
    "So the 0 in `[0,:]` references the 1st row and the \":\" tells numpy to return the whole row. "
   ]
  },
  {
   "cell_type": "markdown",
   "id": "9af5e561-ebbd-44b2-aa27-7b81696d33f8",
   "metadata": {},
   "source": [
    "### Accessing Columns:  \n",
    "\n",
    "***\n"
   ]
  },
  {
   "cell_type": "markdown",
   "id": "a39b8f11-08ed-46db-a532-c2b22278aea9",
   "metadata": {},
   "source": [
    "Now to access columns one just needs to invert the values. So instead of:  \n",
    "`array_a[0,:]` for the whole 1st row  \n",
    "\n",
    "we write:  \n",
    "`array_a[:,0]` to get the whole 1st column"
   ]
  },
  {
   "cell_type": "code",
   "execution_count": 30,
   "id": "a84c00d0-66ea-4381-8cb9-9b5db024d0d2",
   "metadata": {},
   "outputs": [
    {
     "data": {
      "text/plain": [
       "array([4., 3., 4., 5., 3.])"
      ]
     },
     "execution_count": 30,
     "metadata": {},
     "output_type": "execute_result"
    }
   ],
   "source": [
    "array_a[:,0]"
   ]
  },
  {
   "cell_type": "markdown",
   "id": "50b76ad4-27ca-4358-80af-1ab0aacc680d",
   "metadata": {},
   "source": [
    "#### Accessing both:"
   ]
  },
  {
   "cell_type": "markdown",
   "id": "a8f3764d-1814-4116-a5f1-39b3412a6ac0",
   "metadata": {},
   "source": [
    "So now that we know that the syntax structure reference the row for the first argument value and the column for the 2nd one,  \n",
    "we can follow that structure to access any slice of any of row or column. "
   ]
  },
  {
   "cell_type": "code",
   "execution_count": 31,
   "id": "f5342a44-df65-4171-ac6b-3b2517071d66",
   "metadata": {},
   "outputs": [
    {
     "data": {
      "text/plain": [
       "array([ 7., 10.])"
      ]
     },
     "execution_count": 31,
     "metadata": {},
     "output_type": "execute_result"
    }
   ],
   "source": [
    "array_a[1, 2:4]  # returning from the 2nd row, columns 3 & 4"
   ]
  },
  {
   "cell_type": "code",
   "execution_count": 32,
   "id": "ad89935d-f8e8-4d86-86ae-4d62cf0dedd7",
   "metadata": {},
   "outputs": [
    {
     "data": {
      "text/plain": [
       "array([[ 4.,  1.,  3.],\n",
       "       [ 0.,  7., 10.]])"
      ]
     },
     "execution_count": 32,
     "metadata": {},
     "output_type": "execute_result"
    }
   ],
   "source": [
    "array_a[0:2, 1:4]  # returning from rows 1 to 2 the columns 2 to 4"
   ]
  },
  {
   "cell_type": "markdown",
   "id": "ab08632c-248c-4fbf-baad-cc78ee2d14f9",
   "metadata": {},
   "source": [
    "### .argwhere() to find the index of a value:  \n",
    "\n",
    "***\n"
   ]
  },
  {
   "cell_type": "markdown",
   "id": "31ed6e6e-e5ea-4be5-a85e-f1a9c8b848dd",
   "metadata": {},
   "source": [
    "When we want to find the index of a value sometimes looking at the matrice itself is tedious, especially if it is a big matrice with tens of rows and col.  \n",
    "\n",
    "In this case the `np.argwhere()` method will return the index of any given entry's value:"
   ]
  },
  {
   "cell_type": "markdown",
   "id": "64e062c2-3a20-4a37-ba81-b24fe678e7f0",
   "metadata": {},
   "source": [
    "Let's try it with the value -999 in the matrice array_tobe_sliced, which I will rename to save some time:"
   ]
  },
  {
   "cell_type": "code",
   "execution_count": 33,
   "id": "5877b3a5-6fd3-4faa-840d-c8464f858e20",
   "metadata": {},
   "outputs": [
    {
     "data": {
      "text/plain": [
       "array([   0,    1,    2, -999,    4,    5,    6,    7,    8,    9,   10,\n",
       "         11,   12,   13,   14,   15,   16,   17,   18,   19,   20,   21,\n",
       "         22,   23,   24,   25,   26,   27,   28,   29,   30,   31,   32,\n",
       "         33,   34,   35,   36,   37,   38,   39,   40,   41,   42,   43,\n",
       "         44,   45,   46,   47,   48,   49,   50,   51,   52,   53,   54,\n",
       "         55,   56,   57,   58,   59,   60,   61,   62,   63,   64,   65,\n",
       "         66,   67,   68,   69,   70,   71,   72,   73,   74,   75,   76,\n",
       "         77,   78,   79,   80,   81,   82,   83,   84,   85,   86,   87,\n",
       "         88,   89,   90,   91,   92,   93,   94,   95,   96,   97,   98,\n",
       "         99])"
      ]
     },
     "execution_count": 33,
     "metadata": {},
     "output_type": "execute_result"
    }
   ],
   "source": [
    "atbs = array_tobe_sliced\n",
    "atbs"
   ]
  },
  {
   "cell_type": "markdown",
   "id": "6745c369-3ca4-4959-9c49-61f4d33cb896",
   "metadata": {},
   "source": [
    "Now we can use the method:"
   ]
  },
  {
   "cell_type": "code",
   "execution_count": 35,
   "id": "4d5670f7-7a5b-404b-9848-c5246f651a68",
   "metadata": {},
   "outputs": [
    {
     "data": {
      "text/plain": [
       "3"
      ]
     },
     "execution_count": 35,
     "metadata": {},
     "output_type": "execute_result"
    }
   ],
   "source": [
    "index_of_minus999 = np.argwhere(atbs==-999)[0][0]\n",
    "index_of_minus999"
   ]
  },
  {
   "cell_type": "markdown",
   "id": "b442cfe4-ff42-41b0-971b-26a049ec00da",
   "metadata": {},
   "source": [
    "The variable now holds the index value of -999, which is 3. "
   ]
  },
  {
   "cell_type": "code",
   "execution_count": null,
   "id": "d5443157-af2f-4801-9d60-9a0f8b36d626",
   "metadata": {},
   "outputs": [],
   "source": []
  }
 ],
 "metadata": {
  "kernelspec": {
   "display_name": "Python 3 (ipykernel)",
   "language": "python",
   "name": "python3"
  },
  "language_info": {
   "codemirror_mode": {
    "name": "ipython",
    "version": 3
   },
   "file_extension": ".py",
   "mimetype": "text/x-python",
   "name": "python",
   "nbconvert_exporter": "python",
   "pygments_lexer": "ipython3",
   "version": "3.11.5"
  }
 },
 "nbformat": 4,
 "nbformat_minor": 5
}
