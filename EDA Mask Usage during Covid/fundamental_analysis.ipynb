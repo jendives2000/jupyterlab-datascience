{
 "cells": [
  {
   "cell_type": "markdown",
   "metadata": {},
   "source": [
    "# Mask Use by County in The USA in 07/2020\n",
    "\n",
    "The New York Times has published estimates of [mask usage](https://www.nytimes.com/interactive/2020/07/17/upshot/coronavirus-face-mask-map.html) across U.S. counties, based on a survey conducted by Dynata, which collected **250,000 responses** between **July 2 and July 14 of 2020**.  \n",
    "\n",
    "Participants were asked:  \n",
    "_How often do you wear a mask in public when you expect to be within six feet of another person?_\n",
    "\n",
    "This data provides a more granular view of mask usage than state-level reports, although **no plans for future updates** or additional surveys have been announced."
   ]
  },
  {
   "cell_type": "markdown",
   "metadata": {},
   "source": [
    "## Data\n",
    "\n",
    "The fields have the following definitions:\n",
    "\n",
    "**COUNTYFP**: The county FIPS code.  \n",
    "**NEVER**: The estimated share of people in this county who would say **never** in response to the question “How often do you wear a mask in public when you expect to be within six feet of another person?”  \n",
    "**RARELY**: The estimated share of people in this county who would say **rarely**  \n",
    "**SOMETIMES**: The estimated share of people in this county who would say **sometimes**  \n",
    "**FREQUENTLY**: The estimated share of people in this county who would say **frequently**  \n",
    "**ALWAYS**: The estimated share of people in this county who would say **always**  \n",
    "\n",
    "```\n",
    "COUNTYFP,NEVER,RARELY,SOMETIMES,FREQUENTLY,ALWAYS\n",
    "01001,0.053,0.074,0.134,0.295,0.444\n",
    "01003,0.083,0.059,0.098,0.323,0.436\n",
    "01005,0.067,0.121,0.12,0.201,0.491\n",
    "```"
   ]
  },
  {
   "cell_type": "markdown",
   "metadata": {},
   "source": [
    "## To Keep in Mind\n",
    "\n",
    "Two things to point out about the data for each of these frequencies category: \n",
    "- what they call share of people is the **normalized percentage** of people. This means that instead of actual percentages, it is on a scale of 1, so **0.33 means 33%**. \n",
    "- This **blurs out**: \n",
    "  - **the total per county**. We just know it was a total of 250,000 interviews, all counties included. We **cannot know** the exact number of **people interviewed per county**.  \n",
    "  Is the timeframe since the beginning of the pandemic ? Daily?  \n",
    "  Needless to also remember that social interactions varied wildly from one individual to another. \n",
    "\n",
    "Other aspects are not mentioned too: \n",
    "- **indoor or outdoor environments**, it seems both are mixed in here. As we know now, indoor environments are much more critical than outdoor ones.\n",
    "- **age categories**: here too, the older you are the riskier it is for you to be exposed in average\n",
    "- and others like **morbidity, vaccine status, health status**, etc. \n",
    "\n",
    "Lots of data is available and **in the future this study can be extended to more inputs** that could fill the gaps mentioned here. In the Sources parag., we also point out that his dataset is part of a bigger study, so more datasets were collected for it."
   ]
  },
  {
   "cell_type": "markdown",
   "metadata": {},
   "source": [
    "### County FIPS code\n",
    "\n",
    "The column `COUNTYFP` holds **FIPS** code of each county.  \n",
    "\n",
    "A FIPS code for counties is a 5-digit number where:\n",
    "- The first two digits represent the state.\n",
    "- The last three digits represent the county within that state.\n"
   ]
  },
  {
   "cell_type": "markdown",
   "metadata": {},
   "source": [
    "## Methodology\n",
    "\n",
    "To transform raw survey responses into county-level estimates, the survey data was **weighted by age and gender**, and survey **respondents’ locations were approximated from their ZIP codes**. Then **estimates** of mask-wearing were made **for each census tract** by taking a weighted **average of the 200 nearest responses**, with closer responses getting more weight in the average. These tract-level estimates were then rolled up to the county level according to each tract’s total population. \n",
    "\n",
    "By rolling the estimates up to counties, it **reduces a lot of the random noise** that is seen at the tract level."
   ]
  },
  {
   "cell_type": "markdown",
   "metadata": {},
   "source": [
    "### In Simpler Terms:\n",
    "\n",
    "**Survey Responses**: a big group of people answered questions about how often they wear masks. These answers are called survey responses.\n",
    "\n",
    "**Weighting by Age and Gender**: To make sure the answers represent everyone fairly, we adjust (or \"weight\") the responses based on how many boys and girls, and different ages there are in the area. **This helps us understand what everyone thinks, not just one group**.\n",
    "\n",
    "**Using ZIP Codes**: We look at where each person lives using their ZIP code. This **helps us figure out which county they belong to**.\n",
    "\n",
    "**Finding Estimates for Mask-Wearing**: For each small area (called a census tract), we want to know how many people wear masks. We do this by looking at the 200 closest survey responses. **If someone lives closer to the tract, their answer counts more than someone who is farther away**. It’s like giving a gold star to the kids who live nearby!\n",
    "\n",
    "**Rolling Up to County Level:** After we get the mask-wearing estimates for these small areas, we **combine them to get an overall idea for the whole county**. This makes the information clearer and less confusing because it **smooths out any random differences that might happen in smaller areas**.\n",
    "\n",
    "So, in simple terms: \n",
    "- we take lots of answers, \n",
    "  - adjust them to be fair, \n",
    "  - find out how many people wear masks in small areas, \n",
    "  - and then combine everything to see the bigger picture for the whole county!"
   ]
  },
  {
   "cell_type": "markdown",
   "metadata": {},
   "source": [
    "## Sources:\n",
    "\n",
    "“The New York Times and Dynata” :  \n",
    "Estimates from The New York Times, based on roughly 250,000 interviews conducted by Dynata from **July 2 to July 14 of year 2020**.\n",
    "\n",
    "The data was used to create an interactive page on COVID-19, [here](https://www.nytimes.com/interactive/2021/us/covid-cases.html).\n",
    "It is primarily part of a bigger study about the daily cumulative number of cases and deaths reported in each county and state across the U.S. since the beginning of the pandemic. \n",
    "\n",
    "[Click HERE for the Raw CSV](https://raw.githubusercontent.com/nytimes/covid-19-data/master/mask-use/mask-use-by-county.csv)\n",
    "[NY Times Github repo](https://github.com/nytimes/covid-19-data)\n",
    "\n",
    "It was found on [Kaggle](https://www.kaggle.com/datasets/mpeteuil/nytimes-covid-19-data) first. \n",
    "\n",
    "If you use this data, you must attribute it to “The New York Times” in any publication. If you would like a more expanded description of the data, you could say “Data from The New York Times, based on reports from state and local health agencies.”"
   ]
  },
  {
   "cell_type": "markdown",
   "metadata": {},
   "source": [
    "### Dynata\n",
    "\n",
    "[Dynata](https://www.dynata.com/solutions/data-insights-solutions/) is an American market research **private** company that specializes in consumer and business-to-business survey research. It is recognized as the world's largest first-party data platform (directly from customers), helping organizations leverage first-party data for informed decision-making regarding products and services. \n",
    "\n",
    "It seems like they conduct their surveys online, reaching the \"surveyees\" directly on their mobile device or desktop. "
   ]
  }
 ],
 "metadata": {
  "language_info": {
   "name": "python"
  }
 },
 "nbformat": 4,
 "nbformat_minor": 2
}
